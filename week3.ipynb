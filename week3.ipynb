{
  "nbformat": 4,
  "nbformat_minor": 0,
  "metadata": {
    "colab": {
      "provenance": []
    },
    "kernelspec": {
      "name": "python3",
      "display_name": "Python 3"
    },
    "language_info": {
      "name": "python"
    }
  },
  "cells": [
    {
      "cell_type": "markdown",
      "source": [
        "### Stage 3 Notebook Contents:\n",
        "\n",
        "0. Introduction - project and notebook summaries, notes on the data source\n",
        "1. Notebook setup - libraries and data import, dealing with randomness in the algorithms\n",
        "2. Data overview\n",
        "3. Used feature/column abbreviations\n",
        "3. Hypothesis to be tested\n",
        "4. Selection of dependent and independent variables\n",
        "5. Dataset splitting into training and testing subsets\n",
        "6. Feature selection with recursive feature elimination and cross-validation\n",
        "7. Hyperparameter tuning of a random forest model with cross-validation\n",
        "8. Train and evaluate the model with the best hyperparameters on the training data with cross-validation\n",
        "9. Validate the model on the test subset (previously unseen data)\n",
        "10. Conclusions\n"
      ],
      "metadata": {
        "id": "_vq5YgsNT2uc"
      }
    },
    {
      "cell_type": "markdown",
      "source": [
        "### Import essential libraries"
      ],
      "metadata": {
        "id": "ucrbVpXvT_fW"
      }
    },
    {
      "cell_type": "code",
      "source": [
        "import pandas as pd\n",
        "import numpy as np\n",
        "import matplotlib.pyplot as plt\n",
        "import sklearn.model_selection as ms\n",
        "from sklearn.model_selection import cross_val_score, train_test_split\n",
        "from sklearn.ensemble import RandomForestRegressor\n",
        "from sklearn.metrics import r2_score, mean_squared_error\n",
        "from sklearn import feature_selection as fs\n",
        "import numpy.random as nr"
      ],
      "metadata": {
        "id": "5HI3D6ESUBxc"
      },
      "execution_count": 1,
      "outputs": []
    },
    {
      "cell_type": "code",
      "source": [
        "# import the cleaned dataset from a csv file\n",
        "data = pd.read_csv(r'data_cleaned.csv')\n",
        "data.head()"
      ],
      "metadata": {
        "colab": {
          "base_uri": "https://localhost:8080/",
          "height": 226
        },
        "id": "LboMXP8PUFUm",
        "outputId": "43c970a5-6595-4733-828d-329ab76bef24"
      },
      "execution_count": 2,
      "outputs": [
        {
          "output_type": "execute_result",
          "data": {
            "text/plain": [
              "  country  year  cereal_yield  fdi_perc_gdp  en_per_gdp  en_per_cap  \\\n",
              "0     AGO  1991         417.4      5.449515  179.271884  565.451027   \n",
              "1     AGO  1992         397.0      4.982460  193.632183  550.548264   \n",
              "2     AGO  1993         267.8      5.715529  266.318379  551.688878   \n",
              "3     AGO  1994         298.4      4.195018  260.830190  541.553067   \n",
              "4     AGO  1995         402.2      9.374417  237.623934  528.386164   \n",
              "\n",
              "     co2_ttl  co2_per_cap  co2_per_gdp  pop_urb_aggl_perc  prot_area_perc  \\\n",
              "0   4367.397     0.409949   129.971142          15.290728       12.399822   \n",
              "1   4418.735     0.401597   141.244823          15.660630       12.399823   \n",
              "2   5801.194     0.510141   246.261769          16.025739       12.399823   \n",
              "3   3890.687     0.331321   159.575256          16.065941       12.399824   \n",
              "4  11012.001     0.909699   409.106543          16.134424       12.399825   \n",
              "\n",
              "            gdp  gni_per_cap  under_5_mort_rate  pop_growth_perc         pop  \\\n",
              "0  1.219375e+10        820.0              239.1         3.034866  10653515.0   \n",
              "1  5.779394e+09        470.0              235.3         3.226990  11002910.0   \n",
              "2  5.285600e+09        310.0              231.1         3.297243  11371750.0   \n",
              "3  4.059577e+09        190.0              226.3         3.212170  11742960.0   \n",
              "4  5.039535e+09        320.0              221.5         3.037335  12105105.0   \n",
              "\n",
              "   urb_pop_growth_perc      urb_pop  \n",
              "0             6.687032  4099472.572  \n",
              "1             6.750459  4385759.926  \n",
              "2             6.700777  4689709.700  \n",
              "3             6.503667  5004849.552  \n",
              "4             6.223936  5326246.200  "
            ],
            "text/html": [
              "\n",
              "  <div id=\"df-be9b84d3-28a1-488c-9cfb-13a9e119f79f\" class=\"colab-df-container\">\n",
              "    <div>\n",
              "<style scoped>\n",
              "    .dataframe tbody tr th:only-of-type {\n",
              "        vertical-align: middle;\n",
              "    }\n",
              "\n",
              "    .dataframe tbody tr th {\n",
              "        vertical-align: top;\n",
              "    }\n",
              "\n",
              "    .dataframe thead th {\n",
              "        text-align: right;\n",
              "    }\n",
              "</style>\n",
              "<table border=\"1\" class=\"dataframe\">\n",
              "  <thead>\n",
              "    <tr style=\"text-align: right;\">\n",
              "      <th></th>\n",
              "      <th>country</th>\n",
              "      <th>year</th>\n",
              "      <th>cereal_yield</th>\n",
              "      <th>fdi_perc_gdp</th>\n",
              "      <th>en_per_gdp</th>\n",
              "      <th>en_per_cap</th>\n",
              "      <th>co2_ttl</th>\n",
              "      <th>co2_per_cap</th>\n",
              "      <th>co2_per_gdp</th>\n",
              "      <th>pop_urb_aggl_perc</th>\n",
              "      <th>prot_area_perc</th>\n",
              "      <th>gdp</th>\n",
              "      <th>gni_per_cap</th>\n",
              "      <th>under_5_mort_rate</th>\n",
              "      <th>pop_growth_perc</th>\n",
              "      <th>pop</th>\n",
              "      <th>urb_pop_growth_perc</th>\n",
              "      <th>urb_pop</th>\n",
              "    </tr>\n",
              "  </thead>\n",
              "  <tbody>\n",
              "    <tr>\n",
              "      <th>0</th>\n",
              "      <td>AGO</td>\n",
              "      <td>1991</td>\n",
              "      <td>417.4</td>\n",
              "      <td>5.449515</td>\n",
              "      <td>179.271884</td>\n",
              "      <td>565.451027</td>\n",
              "      <td>4367.397</td>\n",
              "      <td>0.409949</td>\n",
              "      <td>129.971142</td>\n",
              "      <td>15.290728</td>\n",
              "      <td>12.399822</td>\n",
              "      <td>1.219375e+10</td>\n",
              "      <td>820.0</td>\n",
              "      <td>239.1</td>\n",
              "      <td>3.034866</td>\n",
              "      <td>10653515.0</td>\n",
              "      <td>6.687032</td>\n",
              "      <td>4099472.572</td>\n",
              "    </tr>\n",
              "    <tr>\n",
              "      <th>1</th>\n",
              "      <td>AGO</td>\n",
              "      <td>1992</td>\n",
              "      <td>397.0</td>\n",
              "      <td>4.982460</td>\n",
              "      <td>193.632183</td>\n",
              "      <td>550.548264</td>\n",
              "      <td>4418.735</td>\n",
              "      <td>0.401597</td>\n",
              "      <td>141.244823</td>\n",
              "      <td>15.660630</td>\n",
              "      <td>12.399823</td>\n",
              "      <td>5.779394e+09</td>\n",
              "      <td>470.0</td>\n",
              "      <td>235.3</td>\n",
              "      <td>3.226990</td>\n",
              "      <td>11002910.0</td>\n",
              "      <td>6.750459</td>\n",
              "      <td>4385759.926</td>\n",
              "    </tr>\n",
              "    <tr>\n",
              "      <th>2</th>\n",
              "      <td>AGO</td>\n",
              "      <td>1993</td>\n",
              "      <td>267.8</td>\n",
              "      <td>5.715529</td>\n",
              "      <td>266.318379</td>\n",
              "      <td>551.688878</td>\n",
              "      <td>5801.194</td>\n",
              "      <td>0.510141</td>\n",
              "      <td>246.261769</td>\n",
              "      <td>16.025739</td>\n",
              "      <td>12.399823</td>\n",
              "      <td>5.285600e+09</td>\n",
              "      <td>310.0</td>\n",
              "      <td>231.1</td>\n",
              "      <td>3.297243</td>\n",
              "      <td>11371750.0</td>\n",
              "      <td>6.700777</td>\n",
              "      <td>4689709.700</td>\n",
              "    </tr>\n",
              "    <tr>\n",
              "      <th>3</th>\n",
              "      <td>AGO</td>\n",
              "      <td>1994</td>\n",
              "      <td>298.4</td>\n",
              "      <td>4.195018</td>\n",
              "      <td>260.830190</td>\n",
              "      <td>541.553067</td>\n",
              "      <td>3890.687</td>\n",
              "      <td>0.331321</td>\n",
              "      <td>159.575256</td>\n",
              "      <td>16.065941</td>\n",
              "      <td>12.399824</td>\n",
              "      <td>4.059577e+09</td>\n",
              "      <td>190.0</td>\n",
              "      <td>226.3</td>\n",
              "      <td>3.212170</td>\n",
              "      <td>11742960.0</td>\n",
              "      <td>6.503667</td>\n",
              "      <td>5004849.552</td>\n",
              "    </tr>\n",
              "    <tr>\n",
              "      <th>4</th>\n",
              "      <td>AGO</td>\n",
              "      <td>1995</td>\n",
              "      <td>402.2</td>\n",
              "      <td>9.374417</td>\n",
              "      <td>237.623934</td>\n",
              "      <td>528.386164</td>\n",
              "      <td>11012.001</td>\n",
              "      <td>0.909699</td>\n",
              "      <td>409.106543</td>\n",
              "      <td>16.134424</td>\n",
              "      <td>12.399825</td>\n",
              "      <td>5.039535e+09</td>\n",
              "      <td>320.0</td>\n",
              "      <td>221.5</td>\n",
              "      <td>3.037335</td>\n",
              "      <td>12105105.0</td>\n",
              "      <td>6.223936</td>\n",
              "      <td>5326246.200</td>\n",
              "    </tr>\n",
              "  </tbody>\n",
              "</table>\n",
              "</div>\n",
              "    <div class=\"colab-df-buttons\">\n",
              "\n",
              "  <div class=\"colab-df-container\">\n",
              "    <button class=\"colab-df-convert\" onclick=\"convertToInteractive('df-be9b84d3-28a1-488c-9cfb-13a9e119f79f')\"\n",
              "            title=\"Convert this dataframe to an interactive table.\"\n",
              "            style=\"display:none;\">\n",
              "\n",
              "  <svg xmlns=\"http://www.w3.org/2000/svg\" height=\"24px\" viewBox=\"0 -960 960 960\">\n",
              "    <path d=\"M120-120v-720h720v720H120Zm60-500h600v-160H180v160Zm220 220h160v-160H400v160Zm0 220h160v-160H400v160ZM180-400h160v-160H180v160Zm440 0h160v-160H620v160ZM180-180h160v-160H180v160Zm440 0h160v-160H620v160Z\"/>\n",
              "  </svg>\n",
              "    </button>\n",
              "\n",
              "  <style>\n",
              "    .colab-df-container {\n",
              "      display:flex;\n",
              "      gap: 12px;\n",
              "    }\n",
              "\n",
              "    .colab-df-convert {\n",
              "      background-color: #E8F0FE;\n",
              "      border: none;\n",
              "      border-radius: 50%;\n",
              "      cursor: pointer;\n",
              "      display: none;\n",
              "      fill: #1967D2;\n",
              "      height: 32px;\n",
              "      padding: 0 0 0 0;\n",
              "      width: 32px;\n",
              "    }\n",
              "\n",
              "    .colab-df-convert:hover {\n",
              "      background-color: #E2EBFA;\n",
              "      box-shadow: 0px 1px 2px rgba(60, 64, 67, 0.3), 0px 1px 3px 1px rgba(60, 64, 67, 0.15);\n",
              "      fill: #174EA6;\n",
              "    }\n",
              "\n",
              "    .colab-df-buttons div {\n",
              "      margin-bottom: 4px;\n",
              "    }\n",
              "\n",
              "    [theme=dark] .colab-df-convert {\n",
              "      background-color: #3B4455;\n",
              "      fill: #D2E3FC;\n",
              "    }\n",
              "\n",
              "    [theme=dark] .colab-df-convert:hover {\n",
              "      background-color: #434B5C;\n",
              "      box-shadow: 0px 1px 3px 1px rgba(0, 0, 0, 0.15);\n",
              "      filter: drop-shadow(0px 1px 2px rgba(0, 0, 0, 0.3));\n",
              "      fill: #FFFFFF;\n",
              "    }\n",
              "  </style>\n",
              "\n",
              "    <script>\n",
              "      const buttonEl =\n",
              "        document.querySelector('#df-be9b84d3-28a1-488c-9cfb-13a9e119f79f button.colab-df-convert');\n",
              "      buttonEl.style.display =\n",
              "        google.colab.kernel.accessAllowed ? 'block' : 'none';\n",
              "\n",
              "      async function convertToInteractive(key) {\n",
              "        const element = document.querySelector('#df-be9b84d3-28a1-488c-9cfb-13a9e119f79f');\n",
              "        const dataTable =\n",
              "          await google.colab.kernel.invokeFunction('convertToInteractive',\n",
              "                                                    [key], {});\n",
              "        if (!dataTable) return;\n",
              "\n",
              "        const docLinkHtml = 'Like what you see? Visit the ' +\n",
              "          '<a target=\"_blank\" href=https://colab.research.google.com/notebooks/data_table.ipynb>data table notebook</a>'\n",
              "          + ' to learn more about interactive tables.';\n",
              "        element.innerHTML = '';\n",
              "        dataTable['output_type'] = 'display_data';\n",
              "        await google.colab.output.renderOutput(dataTable, element);\n",
              "        const docLink = document.createElement('div');\n",
              "        docLink.innerHTML = docLinkHtml;\n",
              "        element.appendChild(docLink);\n",
              "      }\n",
              "    </script>\n",
              "  </div>\n",
              "\n",
              "\n",
              "    <div id=\"df-63aae843-28e5-41f5-afd1-22fa03ffb0b7\">\n",
              "      <button class=\"colab-df-quickchart\" onclick=\"quickchart('df-63aae843-28e5-41f5-afd1-22fa03ffb0b7')\"\n",
              "                title=\"Suggest charts\"\n",
              "                style=\"display:none;\">\n",
              "\n",
              "<svg xmlns=\"http://www.w3.org/2000/svg\" height=\"24px\"viewBox=\"0 0 24 24\"\n",
              "     width=\"24px\">\n",
              "    <g>\n",
              "        <path d=\"M19 3H5c-1.1 0-2 .9-2 2v14c0 1.1.9 2 2 2h14c1.1 0 2-.9 2-2V5c0-1.1-.9-2-2-2zM9 17H7v-7h2v7zm4 0h-2V7h2v10zm4 0h-2v-4h2v4z\"/>\n",
              "    </g>\n",
              "</svg>\n",
              "      </button>\n",
              "\n",
              "<style>\n",
              "  .colab-df-quickchart {\n",
              "      --bg-color: #E8F0FE;\n",
              "      --fill-color: #1967D2;\n",
              "      --hover-bg-color: #E2EBFA;\n",
              "      --hover-fill-color: #174EA6;\n",
              "      --disabled-fill-color: #AAA;\n",
              "      --disabled-bg-color: #DDD;\n",
              "  }\n",
              "\n",
              "  [theme=dark] .colab-df-quickchart {\n",
              "      --bg-color: #3B4455;\n",
              "      --fill-color: #D2E3FC;\n",
              "      --hover-bg-color: #434B5C;\n",
              "      --hover-fill-color: #FFFFFF;\n",
              "      --disabled-bg-color: #3B4455;\n",
              "      --disabled-fill-color: #666;\n",
              "  }\n",
              "\n",
              "  .colab-df-quickchart {\n",
              "    background-color: var(--bg-color);\n",
              "    border: none;\n",
              "    border-radius: 50%;\n",
              "    cursor: pointer;\n",
              "    display: none;\n",
              "    fill: var(--fill-color);\n",
              "    height: 32px;\n",
              "    padding: 0;\n",
              "    width: 32px;\n",
              "  }\n",
              "\n",
              "  .colab-df-quickchart:hover {\n",
              "    background-color: var(--hover-bg-color);\n",
              "    box-shadow: 0 1px 2px rgba(60, 64, 67, 0.3), 0 1px 3px 1px rgba(60, 64, 67, 0.15);\n",
              "    fill: var(--button-hover-fill-color);\n",
              "  }\n",
              "\n",
              "  .colab-df-quickchart-complete:disabled,\n",
              "  .colab-df-quickchart-complete:disabled:hover {\n",
              "    background-color: var(--disabled-bg-color);\n",
              "    fill: var(--disabled-fill-color);\n",
              "    box-shadow: none;\n",
              "  }\n",
              "\n",
              "  .colab-df-spinner {\n",
              "    border: 2px solid var(--fill-color);\n",
              "    border-color: transparent;\n",
              "    border-bottom-color: var(--fill-color);\n",
              "    animation:\n",
              "      spin 1s steps(1) infinite;\n",
              "  }\n",
              "\n",
              "  @keyframes spin {\n",
              "    0% {\n",
              "      border-color: transparent;\n",
              "      border-bottom-color: var(--fill-color);\n",
              "      border-left-color: var(--fill-color);\n",
              "    }\n",
              "    20% {\n",
              "      border-color: transparent;\n",
              "      border-left-color: var(--fill-color);\n",
              "      border-top-color: var(--fill-color);\n",
              "    }\n",
              "    30% {\n",
              "      border-color: transparent;\n",
              "      border-left-color: var(--fill-color);\n",
              "      border-top-color: var(--fill-color);\n",
              "      border-right-color: var(--fill-color);\n",
              "    }\n",
              "    40% {\n",
              "      border-color: transparent;\n",
              "      border-right-color: var(--fill-color);\n",
              "      border-top-color: var(--fill-color);\n",
              "    }\n",
              "    60% {\n",
              "      border-color: transparent;\n",
              "      border-right-color: var(--fill-color);\n",
              "    }\n",
              "    80% {\n",
              "      border-color: transparent;\n",
              "      border-right-color: var(--fill-color);\n",
              "      border-bottom-color: var(--fill-color);\n",
              "    }\n",
              "    90% {\n",
              "      border-color: transparent;\n",
              "      border-bottom-color: var(--fill-color);\n",
              "    }\n",
              "  }\n",
              "</style>\n",
              "\n",
              "      <script>\n",
              "        async function quickchart(key) {\n",
              "          const quickchartButtonEl =\n",
              "            document.querySelector('#' + key + ' button');\n",
              "          quickchartButtonEl.disabled = true;  // To prevent multiple clicks.\n",
              "          quickchartButtonEl.classList.add('colab-df-spinner');\n",
              "          try {\n",
              "            const charts = await google.colab.kernel.invokeFunction(\n",
              "                'suggestCharts', [key], {});\n",
              "          } catch (error) {\n",
              "            console.error('Error during call to suggestCharts:', error);\n",
              "          }\n",
              "          quickchartButtonEl.classList.remove('colab-df-spinner');\n",
              "          quickchartButtonEl.classList.add('colab-df-quickchart-complete');\n",
              "        }\n",
              "        (() => {\n",
              "          let quickchartButtonEl =\n",
              "            document.querySelector('#df-63aae843-28e5-41f5-afd1-22fa03ffb0b7 button');\n",
              "          quickchartButtonEl.style.display =\n",
              "            google.colab.kernel.accessAllowed ? 'block' : 'none';\n",
              "        })();\n",
              "      </script>\n",
              "    </div>\n",
              "\n",
              "    </div>\n",
              "  </div>\n"
            ],
            "application/vnd.google.colaboratory.intrinsic+json": {
              "type": "dataframe",
              "variable_name": "data",
              "summary": "{\n  \"name\": \"data\",\n  \"rows\": 1700,\n  \"fields\": [\n    {\n      \"column\": \"country\",\n      \"properties\": {\n        \"dtype\": \"category\",\n        \"num_unique_values\": 96,\n        \"samples\": [\n          \"TGO\",\n          \"SSA\",\n          \"SAU\"\n        ],\n        \"semantic_type\": \"\",\n        \"description\": \"\"\n      }\n    },\n    {\n      \"column\": \"year\",\n      \"properties\": {\n        \"dtype\": \"number\",\n        \"std\": 5,\n        \"min\": 1991,\n        \"max\": 2008,\n        \"num_unique_values\": 18,\n        \"samples\": [\n          1991,\n          1992,\n          1999\n        ],\n        \"semantic_type\": \"\",\n        \"description\": \"\"\n      }\n    },\n    {\n      \"column\": \"cereal_yield\",\n      \"properties\": {\n        \"dtype\": \"number\",\n        \"std\": 1796.2060824631812,\n        \"min\": 175.7,\n        \"max\": 8410.8,\n        \"num_unique_values\": 1671,\n        \"samples\": [\n          1904.25101534183,\n          6739.1,\n          7390.4\n        ],\n        \"semantic_type\": \"\",\n        \"description\": \"\"\n      }\n    },\n    {\n      \"column\": \"fdi_perc_gdp\",\n      \"properties\": {\n        \"dtype\": \"number\",\n        \"std\": 3.9497223431347557,\n        \"min\": -15.02767537004,\n        \"max\": 51.3739511818767,\n        \"num_unique_values\": 1700,\n        \"samples\": [\n          0.55378257345916,\n          0.516791195526743,\n          14.9243456309047\n        ],\n        \"semantic_type\": \"\",\n        \"description\": \"\"\n      }\n    },\n    {\n      \"column\": \"en_per_gdp\",\n      \"properties\": {\n        \"dtype\": \"number\",\n        \"std\": 186.19501855333283,\n        \"min\": 66.3353718553114,\n        \"max\": 1383.38001129881,\n        \"num_unique_values\": 1700,\n        \"samples\": [\n          815.684529926814,\n          149.248658502544,\n          261.67020827446\n        ],\n        \"semantic_type\": \"\",\n        \"description\": \"\"\n      }\n    },\n    {\n      \"column\": \"en_per_cap\",\n      \"properties\": {\n        \"dtype\": \"number\",\n        \"std\": 1959.4199719827914,\n        \"min\": 116.511475882494,\n        \"max\": 12607.8392616279,\n        \"num_unique_values\": 1700,\n        \"samples\": [\n          3180.07129237211,\n          158.971027955012,\n          2569.26303957415\n        ],\n        \"semantic_type\": \"\",\n        \"description\": \"\"\n      }\n    },\n    {\n      \"column\": \"co2_ttl\",\n      \"properties\": {\n        \"dtype\": \"number\",\n        \"std\": 3235691.6552855494,\n        \"min\": 707.731,\n        \"max\": 30649360.0,\n        \"num_unique_values\": 1664,\n        \"samples\": [\n          2882.262,\n          11521.714,\n          42999.242\n        ],\n        \"semantic_type\": \"\",\n        \"description\": \"\"\n      }\n    },\n    {\n      \"column\": \"co2_per_cap\",\n      \"properties\": {\n        \"dtype\": \"number\",\n        \"std\": 4.906272944574703,\n        \"min\": 0.0294107051471301,\n        \"max\": 37.1064994094263,\n        \"num_unique_values\": 1700,\n        \"samples\": [\n          8.65703690323946,\n          0.247771054337506,\n          6.18991912040207\n        ],\n        \"semantic_type\": \"\",\n        \"description\": \"\"\n      }\n    },\n    {\n      \"column\": \"co2_per_gdp\",\n      \"properties\": {\n        \"dtype\": \"number\",\n        \"std\": 392.19223037604155,\n        \"min\": 45.5525917161928,\n        \"max\": 3343.4542497563903,\n        \"num_unique_values\": 1700,\n        \"samples\": [\n          2220.51973926366,\n          232.61784207685,\n          630.4210197590891\n        ],\n        \"semantic_type\": \"\",\n        \"description\": \"\"\n      }\n    },\n    {\n      \"column\": \"pop_urb_aggl_perc\",\n      \"properties\": {\n        \"dtype\": \"number\",\n        \"std\": 12.105158058774856,\n        \"min\": 3.52631627109587,\n        \"max\": 60.5057797734036,\n        \"num_unique_values\": 1700,\n        \"samples\": [\n          12.2433558018424,\n          12.3487116060586,\n          15.1016679802065\n        ],\n        \"semantic_type\": \"\",\n        \"description\": \"\"\n      }\n    },\n    {\n      \"column\": \"prot_area_perc\",\n      \"properties\": {\n        \"dtype\": \"number\",\n        \"std\": 9.116681708826764,\n        \"min\": 0.0,\n        \"max\": 53.7498250426,\n        \"num_unique_values\": 1155,\n        \"samples\": [\n          11.3219510782,\n          22.1327798134413,\n          17.866607224\n        ],\n        \"semantic_type\": \"\",\n        \"description\": \"\"\n      }\n    },\n    {\n      \"column\": \"gdp\",\n      \"properties\": {\n        \"dtype\": \"number\",\n        \"std\": 3921322534218.2964,\n        \"min\": 982632621.161695,\n        \"max\": 55804879952476.9,\n        \"num_unique_values\": 1700,\n        \"samples\": [\n          48213868185.1625,\n          51913661485.3195,\n          28895083539.8005\n        ],\n        \"semantic_type\": \"\",\n        \"description\": \"\"\n      }\n    },\n    {\n      \"column\": \"gni_per_cap\",\n      \"properties\": {\n        \"dtype\": \"number\",\n        \"std\": 11592.51693672125,\n        \"min\": 80.0,\n        \"max\": 58620.0,\n        \"num_unique_values\": 1045,\n        \"samples\": [\n          21790.0,\n          5580.0,\n          4021.89196516474\n        ],\n        \"semantic_type\": \"\",\n        \"description\": \"\"\n      }\n    },\n    {\n      \"column\": \"under_5_mort_rate\",\n      \"properties\": {\n        \"dtype\": \"number\",\n        \"std\": 51.33216150780834,\n        \"min\": 3.2,\n        \"max\": 239.1,\n        \"num_unique_values\": 994,\n        \"samples\": [\n          59.3,\n          114.0,\n          115.5525104564\n        ],\n        \"semantic_type\": \"\",\n        \"description\": \"\"\n      }\n    },\n    {\n      \"column\": \"pop_growth_perc\",\n      \"properties\": {\n        \"dtype\": \"number\",\n        \"std\": 1.1293124471946427,\n        \"min\": -2.39717356845828,\n        \"max\": 11.1806565039193,\n        \"num_unique_values\": 1697,\n        \"samples\": [\n          0.921488512706189,\n          1.660670463142,\n          -0.53167882270332\n        ],\n        \"semantic_type\": \"\",\n        \"description\": \"\"\n      }\n    },\n    {\n      \"column\": \"pop\",\n      \"properties\": {\n        \"dtype\": \"number\",\n        \"std\": 948232863.5278225,\n        \"min\": 1909812.0,\n        \"max\": 6610030272.77736,\n        \"num_unique_values\": 1698,\n        \"samples\": [\n          10634000.0,\n          138633401.0,\n          7699020.0\n        ],\n        \"semantic_type\": \"\",\n        \"description\": \"\"\n      }\n    },\n    {\n      \"column\": \"urb_pop_growth_perc\",\n      \"properties\": {\n        \"dtype\": \"number\",\n        \"std\": 1.6420092976019942,\n        \"min\": -2.75720996097605,\n        \"max\": 12.8290461816591,\n        \"num_unique_values\": 1700,\n        \"samples\": [\n          -0.730634767050787,\n          3.36456564105904,\n          -0.160620883049765\n        ],\n        \"semantic_type\": \"\",\n        \"description\": \"\"\n      }\n    },\n    {\n      \"column\": \"urb_pop\",\n      \"properties\": {\n        \"dtype\": \"number\",\n        \"std\": 414575542.07801586,\n        \"min\": 1151308.8,\n        \"max\": 3264973515.96769,\n        \"num_unique_values\": 1699,\n        \"samples\": [\n          6305962.0,\n          35046523.7728,\n          5427809.1\n        ],\n        \"semantic_type\": \"\",\n        \"description\": \"\"\n      }\n    }\n  ]\n}"
            }
          },
          "metadata": {},
          "execution_count": 2
        }
      ]
    },
    {
      "cell_type": "markdown",
      "source": [
        "### Used feature/column abbreviations\n",
        "\n",
        "The features/columns were given in Stage 1 clearer abbreviations in order to ensure easies understanding, representation and coding. These are listed in the following table together with the corresponding units:\n",
        "\n",
        "<table>\n",
        "    <tr>\n",
        "        <td> <b> Variable name </b> </td>\n",
        "        <td> <b> Description </b> </td>\n",
        "        <td> <b> Unit </b> </td>\n",
        "    </tr>\n",
        "    <tr>\n",
        "        <td> cereal_yield </td>\n",
        "        <td> Cereal yield </td>\n",
        "        <td> kg per hectare </td>\n",
        "    </tr>\n",
        "    <tr>\n",
        "        <td> fdi_perc_gdp </td>\n",
        "        <td> Foreign direct investment, net inflows </td>\n",
        "        <td> % of GDP </td>\n",
        "    </tr>\n",
        "    <tr>\n",
        "        <td> en_per_gdp </td>\n",
        "        <td> Energy use per units of GDP </td>\n",
        "        <td> kg oil eq./\\$1,000 of 2005 PPP \\$ </td>\n",
        "    </tr>\n",
        "    <tr>\n",
        "        <td> en_per_cap </td>\n",
        "        <td> Energy use per capita </td>\n",
        "        <td> kilograms of oil equivalent </td>\n",
        "    </tr>\n",
        "    <tr>\n",
        "        <td> co2_ttl </td>\n",
        "        <td> CO2 emissions, total </td>\n",
        "        <td> KtCO2 </td>\n",
        "    </tr>\n",
        "    <tr>\n",
        "        <td> co2_per_cap </td>\n",
        "        <td> CO2 emissions per capita </td>\n",
        "        <td> metric tons </td>\n",
        "    </tr>\n",
        "    <tr>\n",
        "        <td> co2_per_gdp </td>\n",
        "        <td> CO2 emissions per units of GDP </td>\n",
        "        <td> kg/\\$1,000 of 2005 PPP \\$ </td>\n",
        "    </tr>\n",
        "    <tr>\n",
        "        <td> pop_urb_aggl_perc </td>\n",
        "        <td> Population in urban agglomerations >1million </td>\n",
        "        <td> % </td>\n",
        "    </tr>\n",
        "    <tr>\n",
        "        <td> prot_area_perc </td>\n",
        "        <td> Nationally terrestrial protected areas </td>\n",
        "        <td> % of total land area </td>\n",
        "    </tr>\n",
        "    <tr>\n",
        "        <td> gdp </td>\n",
        "        <td> Gross Domestic Product (GDP) </td>\n",
        "        <td> \\$ </td>\n",
        "    </tr>\n",
        "    <tr>\n",
        "        <td> gni_per_cap </td>\n",
        "        <td> GNI per capita </td>\n",
        "        <td> Atlas \\$ </td>\n",
        "    </tr>\n",
        "    <tr>\n",
        "        <td> under_5_mort_rate </td>\n",
        "        <td> Under-five mortality rate </td>\n",
        "        <td> per 1,000 </td>\n",
        "    </tr>\n",
        "    <tr>\n",
        "        <td> pop_growth_perc </td>\n",
        "        <td> Population growth </td>\n",
        "        <td> annual % </td>\n",
        "    </tr>\n",
        "    <tr>\n",
        "        <td> pop </td>\n",
        "        <td> Population </td>\n",
        "        <td> 1 </td>\n",
        "    </tr>\n",
        "    <tr>\n",
        "        <td> urb_pop_growth_perc </td>\n",
        "        <td> Urban population growth </td>\n",
        "        <td> annual % </td>\n",
        "    </tr>\n",
        "    <tr>\n",
        "        <td> urb_pop </td>\n",
        "        <td> Urban population </td>\n",
        "        <td> 1 </td>\n",
        "    </tr>\n",
        "    \n",
        "</table>"
      ],
      "metadata": {
        "id": "GX355BkcUOXQ"
      }
    },
    {
      "cell_type": "markdown",
      "source": [
        "### Dealing with randomness in the algorithms\n",
        "\n",
        "To make results consistent across runs, it's essential to control randomness in steps like dataset splitting, cross-validation, and Random Forest training. This is achieved by setting the `random_state` parameter and using `numpy.random.seed()` to fix the random seed.\n"
      ],
      "metadata": {
        "id": "JA3m32lcUSU4"
      }
    },
    {
      "cell_type": "code",
      "source": [
        "# define a random state number for all random state - ensures reproducibility of all results\n",
        "random_state_num = 0"
      ],
      "metadata": {
        "id": "vD00lUjVUXgG"
      },
      "execution_count": 3,
      "outputs": []
    },
    {
      "cell_type": "markdown",
      "source": [
        "***\n",
        "\n",
        "### Overview of the available data\n",
        "A global overview of the imported data yields the following insights:"
      ],
      "metadata": {
        "id": "rIbrxAeeUadp"
      }
    },
    {
      "cell_type": "code",
      "source": [
        "print(\"Shape of the dataset:\")\n",
        "data.shape"
      ],
      "metadata": {
        "colab": {
          "base_uri": "https://localhost:8080/"
        },
        "id": "fKcAUaPmUctQ",
        "outputId": "24b234cc-ee0a-4b9f-90eb-a89fa009b9b9"
      },
      "execution_count": 4,
      "outputs": [
        {
          "output_type": "stream",
          "name": "stdout",
          "text": [
            "Shape of the dataset:\n"
          ]
        },
        {
          "output_type": "execute_result",
          "data": {
            "text/plain": [
              "(1700, 18)"
            ]
          },
          "metadata": {},
          "execution_count": 4
        }
      ]
    },
    {
      "cell_type": "code",
      "source": [
        "print(\"available columns and their data types:\")\n",
        "data.dtypes"
      ],
      "metadata": {
        "colab": {
          "base_uri": "https://localhost:8080/",
          "height": 666
        },
        "id": "AryBXTjvUfLs",
        "outputId": "ce0b41e4-87ea-4a0d-d44b-df3f561837e6"
      },
      "execution_count": 5,
      "outputs": [
        {
          "output_type": "stream",
          "name": "stdout",
          "text": [
            "available columns and their data types:\n"
          ]
        },
        {
          "output_type": "execute_result",
          "data": {
            "text/plain": [
              "country                 object\n",
              "year                     int64\n",
              "cereal_yield           float64\n",
              "fdi_perc_gdp           float64\n",
              "en_per_gdp             float64\n",
              "en_per_cap             float64\n",
              "co2_ttl                float64\n",
              "co2_per_cap            float64\n",
              "co2_per_gdp            float64\n",
              "pop_urb_aggl_perc      float64\n",
              "prot_area_perc         float64\n",
              "gdp                    float64\n",
              "gni_per_cap            float64\n",
              "under_5_mort_rate      float64\n",
              "pop_growth_perc        float64\n",
              "pop                    float64\n",
              "urb_pop_growth_perc    float64\n",
              "urb_pop                float64\n",
              "dtype: object"
            ],
            "text/html": [
              "<div>\n",
              "<style scoped>\n",
              "    .dataframe tbody tr th:only-of-type {\n",
              "        vertical-align: middle;\n",
              "    }\n",
              "\n",
              "    .dataframe tbody tr th {\n",
              "        vertical-align: top;\n",
              "    }\n",
              "\n",
              "    .dataframe thead th {\n",
              "        text-align: right;\n",
              "    }\n",
              "</style>\n",
              "<table border=\"1\" class=\"dataframe\">\n",
              "  <thead>\n",
              "    <tr style=\"text-align: right;\">\n",
              "      <th></th>\n",
              "      <th>0</th>\n",
              "    </tr>\n",
              "  </thead>\n",
              "  <tbody>\n",
              "    <tr>\n",
              "      <th>country</th>\n",
              "      <td>object</td>\n",
              "    </tr>\n",
              "    <tr>\n",
              "      <th>year</th>\n",
              "      <td>int64</td>\n",
              "    </tr>\n",
              "    <tr>\n",
              "      <th>cereal_yield</th>\n",
              "      <td>float64</td>\n",
              "    </tr>\n",
              "    <tr>\n",
              "      <th>fdi_perc_gdp</th>\n",
              "      <td>float64</td>\n",
              "    </tr>\n",
              "    <tr>\n",
              "      <th>en_per_gdp</th>\n",
              "      <td>float64</td>\n",
              "    </tr>\n",
              "    <tr>\n",
              "      <th>en_per_cap</th>\n",
              "      <td>float64</td>\n",
              "    </tr>\n",
              "    <tr>\n",
              "      <th>co2_ttl</th>\n",
              "      <td>float64</td>\n",
              "    </tr>\n",
              "    <tr>\n",
              "      <th>co2_per_cap</th>\n",
              "      <td>float64</td>\n",
              "    </tr>\n",
              "    <tr>\n",
              "      <th>co2_per_gdp</th>\n",
              "      <td>float64</td>\n",
              "    </tr>\n",
              "    <tr>\n",
              "      <th>pop_urb_aggl_perc</th>\n",
              "      <td>float64</td>\n",
              "    </tr>\n",
              "    <tr>\n",
              "      <th>prot_area_perc</th>\n",
              "      <td>float64</td>\n",
              "    </tr>\n",
              "    <tr>\n",
              "      <th>gdp</th>\n",
              "      <td>float64</td>\n",
              "    </tr>\n",
              "    <tr>\n",
              "      <th>gni_per_cap</th>\n",
              "      <td>float64</td>\n",
              "    </tr>\n",
              "    <tr>\n",
              "      <th>under_5_mort_rate</th>\n",
              "      <td>float64</td>\n",
              "    </tr>\n",
              "    <tr>\n",
              "      <th>pop_growth_perc</th>\n",
              "      <td>float64</td>\n",
              "    </tr>\n",
              "    <tr>\n",
              "      <th>pop</th>\n",
              "      <td>float64</td>\n",
              "    </tr>\n",
              "    <tr>\n",
              "      <th>urb_pop_growth_perc</th>\n",
              "      <td>float64</td>\n",
              "    </tr>\n",
              "    <tr>\n",
              "      <th>urb_pop</th>\n",
              "      <td>float64</td>\n",
              "    </tr>\n",
              "  </tbody>\n",
              "</table>\n",
              "</div><br><label><b>dtype:</b> object</label>"
            ]
          },
          "metadata": {},
          "execution_count": 5
        }
      ]
    },
    {
      "cell_type": "markdown",
      "source": [
        "### Dealing with outliers\n",
        "\n",
        "A consistent group of outliers—mostly separate from the main data cluster—was identified, primarily belonging to the United Arab Emirates (ARE). To improve model clarity and interpretability, these outliers will be excluded from further analysis.\n"
      ],
      "metadata": {
        "id": "XnanTofjUjX7"
      }
    },
    {
      "cell_type": "code",
      "source": [
        "# remove the ARE outliers\n",
        "data = data[data['country']!='ARE']\n",
        "\n",
        "# print shape after removing the outliers\n",
        "print(\"Shape of the dataset after removing the ARE outliers:\")\n",
        "data.shape"
      ],
      "metadata": {
        "colab": {
          "base_uri": "https://localhost:8080/"
        },
        "id": "rj4unAysUmEd",
        "outputId": "2f08e1c8-6c73-480a-90df-54af62d60a43"
      },
      "execution_count": 6,
      "outputs": [
        {
          "output_type": "stream",
          "name": "stdout",
          "text": [
            "Shape of the dataset after removing the ARE outliers:\n"
          ]
        },
        {
          "output_type": "execute_result",
          "data": {
            "text/plain": [
              "(1686, 18)"
            ]
          },
          "metadata": {},
          "execution_count": 6
        }
      ]
    },
    {
      "cell_type": "markdown",
      "source": [
        "***\n",
        "### The hypothesis to be investigated\n",
        "\n",
        "CO₂ emissions are influenced by country-specific features such as energy use, population metrics, GDP, GNI, cereal yield, and others. The hypothesis is that CO₂ emissions can be predicted based on these variables."
      ],
      "metadata": {
        "id": "xviwMMOzUqjR"
      }
    },
    {
      "cell_type": "markdown",
      "source": [
        "***\n",
        "### The hypothesis to be investigated\n",
        "\n",
        "CO₂ emissions are influenced by country-specific features such as energy use, population metrics, GDP, GNI, cereal yield, and others. The hypothesis is that CO₂ emissions can be predicted based on these variables.\n",
        "\n",
        "\n",
        "***\n",
        "\n",
        "### Selection of dependent and independent variables\n",
        "\n",
        "During the previous stage of the project the features which have the biggest potential to build as many dependencies as possible. The features were chosen as follows:\n",
        "\n",
        "* Dependent variable (DV) to be predicted:\n",
        "    - co2_percap*: CO2 emissions per capita (metric tons)\n",
        "* Independent variables:\n",
        "    - 'cereal_yield': Cereal yield (kg per hectare)\n",
        "    - 'fdi_perc_gdp': Foreign direct investment, net inflows (% of GDP)\n",
        "    - 'gni_per_cap': GNI per capita (Atlas \\\\$)\n",
        "    - 'en_per_cap': Energy use per capita (kilograms of oil equivalent)\n",
        "    - 'pop_urb_aggl_perc': Population in urban agglomerations >1million (\\%)\n",
        "    - 'prot_area_perc': Nationally terrestrial protected areas (\\% of total land area)\n",
        "    - 'gdp': GDP (\\\\$)\n",
        "    - 'pop_growth_perc': Population growth (annual \\%)\n",
        "    - 'urb_pop_growth_perc': Urban population growth (annual \\%)\n",
        "\n",
        "\n",
        "The selected variables are categorized into independent variables (features) and the dependent variable (label), which represents CO₂ emissions. These are then converted into NumPy arrays for input into the Random Forest model. The dependent variable is referenced in the code as `\"labels\"` or `\"label\"`.\n"
      ],
      "metadata": {
        "id": "zK6_Em-SU-PK"
      }
    },
    {
      "cell_type": "code",
      "source": [
        "# choose features and label columns\n",
        "feature_cols = ['cereal_yield','fdi_perc_gdp','gni_per_cap', 'en_per_cap',\n",
        "                'pop_urb_aggl_perc', 'prot_area_perc', 'pop_growth_perc', 'urb_pop_growth_perc']\n",
        "label_col = ['co2_per_cap']\n",
        "\n",
        "# convert into nympy arrays (required for scikit-learn models)\n",
        "features = np.array(data[feature_cols])\n",
        "labels =  np.array(data[label_col])"
      ],
      "metadata": {
        "id": "JI2QJtwyVLbl"
      },
      "execution_count": 7,
      "outputs": []
    },
    {
      "cell_type": "code",
      "source": [
        "features"
      ],
      "metadata": {
        "colab": {
          "base_uri": "https://localhost:8080/"
        },
        "id": "aLZEVhkXVW6r",
        "outputId": "4a1eaa12-2128-4312-df3b-301ab823ca5d"
      },
      "execution_count": 8,
      "outputs": [
        {
          "output_type": "execute_result",
          "data": {
            "text/plain": [
              "array([[ 417.4       ,    5.44951458,  820.        , ...,   12.39982205,\n",
              "           3.03486601,    6.68703163],\n",
              "       [ 397.        ,    4.98245985,  470.        , ...,   12.39982269,\n",
              "           3.22698986,    6.75045876],\n",
              "       [ 267.8       ,    5.71552893,  310.        , ...,   12.39982333,\n",
              "           3.29724265,    6.70077708],\n",
              "       ...,\n",
              "       [1816.1       ,    5.7538601 ,  620.        , ...,   35.98301766,\n",
              "           2.47931167,    2.8785138 ],\n",
              "       [1907.9       ,   11.47085026,  750.        , ...,   35.98301766,\n",
              "           2.56491884,    2.96253368],\n",
              "       [2144.        ,    6.41099075,  970.        , ...,   35.98301766,\n",
              "           2.65395608,    3.0499962 ]])"
            ]
          },
          "metadata": {},
          "execution_count": 8
        }
      ]
    },
    {
      "cell_type": "markdown",
      "source": [
        "***\n",
        "\n",
        "### Train-Test Split and Cross-Validation\n",
        "\n",
        "To validate the model on unseen data, the dataset is split into training and testing sets with an 80:20 ratio. To improve generalization, cross-validation is applied on the training set for feature selection, hyperparameter tuning, and performance evaluation.\n",
        "\n",
        "The dataset split is performed in the following code snippet:\n"
      ],
      "metadata": {
        "id": "gNmlajCWVacT"
      }
    },
    {
      "cell_type": "code",
      "source": [
        "# split into training and testing subsets\n",
        "nr.seed(1)\n",
        "features_train, features_test, labels_train, labels_test = train_test_split(features,\n",
        "                                                                            labels,\n",
        "                                                                            test_size=0.2,\n",
        "                                                                            random_state=random_state_num)"
      ],
      "metadata": {
        "id": "56JWKKOQVdB7"
      },
      "execution_count": 9,
      "outputs": []
    },
    {
      "cell_type": "markdown",
      "source": [
        "### Scaling of Features\n",
        "\n",
        "Algorithms like Linear and Logistic Regression require feature scaling to avoid bias from variables with larger ranges. However, since Random Forest relies on decision trees and not regression coefficients, scaling is not necessary in this case.\n",
        "\n",
        "---\n",
        "\n",
        "### Feature Selection with Cross-Validation\n",
        "\n",
        "Using too many or redundant features can lead to overfitting, reduced model performance, and unnecessary complexity. To address this:\n",
        "\n",
        "- Irrelevant or weakly predictive features are removed.\n",
        "- Multicollinearity is reduced by eliminating highly correlated variables.\n",
        "- Model generalization is improved by selecting only the most relevant features.\n",
        "\n",
        "Feature selection is performed using `RFECV` from `sklearn.feature_selection`, which applies Recursive Feature Elimination with Cross-Validation (based on R² score) to rank and retain top features. The resulting reduced sets are used for training and testing (`features_train_reduced` and `features_test_reduced`).\n"
      ],
      "metadata": {
        "id": "Xmk2zvzkVgwg"
      }
    },
    {
      "cell_type": "code",
      "source": [
        "# Set folds for cross validation for the feature selection\n",
        "nr.seed(1)\n",
        "feature_folds = ms.KFold(n_splits=4, shuffle = True, random_state=random_state_num)\n",
        "\n",
        "# Define the model\n",
        "rf_selector = RandomForestRegressor(random_state=random_state_num)\n",
        "\n",
        "# Define an objects for a model for recursive feature elimination with CV\n",
        "nr.seed(1)\n",
        "selector = fs.RFECV(estimator = rf_selector, cv = feature_folds, scoring = 'r2', n_jobs=-1)\n",
        "\n",
        "selector = selector.fit(features_train, np.ravel(labels_train))\n",
        "\n",
        "selector.support_\n",
        "print(\"Feature ranking after RFECV:\")\n",
        "print(selector.ranking_)\n",
        "\n",
        "# print the important features\n",
        "ranks_transform = list(np.transpose(selector.ranking_))\n",
        "chosen_features = [i for i,j in zip(feature_cols,ranks_transform) if j==1]\n",
        "print(\"Chosen important features:\")\n",
        "print(chosen_features)"
      ],
      "metadata": {
        "colab": {
          "base_uri": "https://localhost:8080/"
        },
        "id": "c2XTzMFIVjk_",
        "outputId": "0d15234f-3e19-42c1-f48c-fb9a0339335a"
      },
      "execution_count": 10,
      "outputs": [
        {
          "output_type": "stream",
          "name": "stdout",
          "text": [
            "Feature ranking after RFECV:\n",
            "[1 2 1 1 1 1 1 1]\n",
            "Chosen important features:\n",
            "['cereal_yield', 'gni_per_cap', 'en_per_cap', 'pop_urb_aggl_perc', 'prot_area_perc', 'pop_growth_perc', 'urb_pop_growth_perc']\n"
          ]
        }
      ]
    },
    {
      "cell_type": "code",
      "source": [
        "# Reduce features\n",
        "features_train_reduced = selector.transform(features_train)\n",
        "features_test_reduced = selector.transform(features_test)\n",
        "\n",
        "print(\"Training subset shape before the recursive feature elimination: \",features_train.shape)\n",
        "print(\"Training subset array shape after the recursive feature elimination: \", features_train_reduced.shape)\n",
        "print(\"Test subset array shape after the recursive feature elimination: \",features_test_reduced.shape)"
      ],
      "metadata": {
        "colab": {
          "base_uri": "https://localhost:8080/"
        },
        "id": "l_aLiEtEVna7",
        "outputId": "d424e0fc-5190-4e0a-a9a0-e1a891084532"
      },
      "execution_count": 11,
      "outputs": [
        {
          "output_type": "stream",
          "name": "stdout",
          "text": [
            "Training subset shape before the recursive feature elimination:  (1348, 8)\n",
            "Training subset array shape after the recursive feature elimination:  (1348, 7)\n",
            "Test subset array shape after the recursive feature elimination:  (338, 7)\n"
          ]
        }
      ]
    },
    {
      "cell_type": "markdown",
      "source": [
        "***\n",
        "\n",
        "### Hyperparameter tuning\n",
        "\n",
        "Random Forest is an algorithm with multiple hyperparameters which can have a range of values. In order to find the hyperparameters which would be most suitable for the current data, it is necessary to conduct hyperparameter tuning. The parameters which will be tuned in this case are:\n",
        "\n",
        "* n_estimators - number of decision trees in the random forest\n",
        "* max_features - number of features to consider at every split\n",
        "* max_depth - maximum number of levels in a tree\n",
        "* min_samples_split - minimum number of samples required to split a node\n",
        "* min_samples_leaf - minimum number of samples required at each leaf node\n",
        "\n",
        "The tuning is executed by applying a cross-validated evaluation of the model for different combinations of preliminary defined ranges for the parameters. The output is the model with the hyperparameters which exhibits the best R2 score compared to other parameter combinations.\n",
        "\n",
        "Define the hyperparameter ranges to be investigated as a parameter grid (dictionary *param_grid*):"
      ],
      "metadata": {
        "id": "dduubM7nVq4z"
      }
    },
    {
      "cell_type": "code",
      "source": [
        "# Define value ranges for each hyperparameter\n",
        "n_estimators = [int(x) for x in np.linspace(start = 200, stop = 2000, num = 10)]\n",
        "\n",
        "# Keep the rest unchanged\n",
        "max_depth = [int(x) for x in np.linspace(10, 110, num=11)]\n",
        "max_depth.append(None)\n",
        "\n",
        "# Create the hyperparameter grid\n",
        "param_grid = {\n",
        "    'n_estimators': n_estimators,\n",
        "    'max_features': ['sqrt', 'log2', None] ,\n",
        "    'max_depth': max_depth,\n",
        "    'min_samples_split': [2, 5, 10],\n",
        "    'min_samples_leaf': [1, 2, 4]\n",
        "}"
      ],
      "metadata": {
        "id": "J0k4YKglVukl"
      },
      "execution_count": 12,
      "outputs": []
    },
    {
      "cell_type": "code",
      "source": [
        "# define the cross-validation folds for the hyperparameter tuning\n",
        "nr.seed(1)\n",
        "inside_folds = ms.KFold(n_splits=5, shuffle = True, random_state=random_state_num)\n",
        "\n",
        "# Define the random forest regressor model object\n",
        "rf_tuner = RandomForestRegressor(random_state=random_state_num)\n",
        "\n",
        "# Perform a randomized search on the grid\n",
        "nr.seed(1)\n",
        "rf_model = ms.RandomizedSearchCV(estimator=rf_tuner, param_distributions = param_grid,\n",
        "                                 random_state=random_state_num, refit=True,\n",
        "                                 cv=inside_folds, scoring = 'r2', return_train_score=True, n_jobs=-1)"
      ],
      "metadata": {
        "id": "2MMNNVI5Vw4o"
      },
      "execution_count": 13,
      "outputs": []
    },
    {
      "cell_type": "markdown",
      "source": [
        "Once fitted to the training data, the `RandomizedSearchCV` will return the best Random Forest model in the best_estimator_ attribute—this model uses the hyperparameter combination that gave the highest R² score during testing.\n",
        "\n",
        "It's important to note that after finding the best combination, the model is automatically retrained on the full training set (thanks to refit=True in the `RandomizedSearchCV` setup).\n",
        "\n",
        "Finally, the best hyperparameters are printed."
      ],
      "metadata": {
        "id": "feQ7sfCLVzG8"
      }
    },
    {
      "cell_type": "code",
      "source": [
        "# Fit the grid search model object with cross-validation on the data\n",
        "rf_model.fit(features_train_reduced, np.ravel(labels_train))\n",
        "\n",
        "# Corrected variable name\n",
        "print(\"Best Parameters:\", rf_model.best_params_)"
      ],
      "metadata": {
        "colab": {
          "base_uri": "https://localhost:8080/"
        },
        "id": "kMRVdLm-V1c_",
        "outputId": "15c2b6b7-ed8a-4a24-c163-39fe7786fcb5"
      },
      "execution_count": 14,
      "outputs": [
        {
          "output_type": "stream",
          "name": "stdout",
          "text": [
            "Best Parameters: {'n_estimators': 800, 'min_samples_split': 5, 'min_samples_leaf': 2, 'max_features': None, 'max_depth': 30}\n"
          ]
        }
      ]
    },
    {
      "cell_type": "markdown",
      "source": [
        "Assign the best model to the model variable *rf_best_model* to be used further:"
      ],
      "metadata": {
        "id": "HJTPY2fqV6Im"
      }
    },
    {
      "cell_type": "code",
      "source": [
        "# pick the model with the best hyperparameter combination for further analysis\n",
        "rf_best_model = rf_model.best_estimator_"
      ],
      "metadata": {
        "id": "u7EmA8kVV8TW"
      },
      "execution_count": 15,
      "outputs": []
    },
    {
      "cell_type": "markdown",
      "source": [
        "***\n",
        "\n",
        "### Evaluation of the model with the best hyperparameters on the training subset with cross-validation\n",
        "\n",
        "The random forest model object *rf_best_model* with the most important features and the most suitable hyperparameters will be now evaluated on the training subset with cross-validation first:"
      ],
      "metadata": {
        "id": "8GDPzbzgWAJD"
      }
    },
    {
      "cell_type": "code",
      "source": [
        "# define the cross-validation folds for the evaluation\n",
        "nr.seed(1)\n",
        "outside_folds = ms.KFold(n_splits=10, shuffle = True, random_state=random_state_num)\n",
        "\n",
        "# Evaluate the model on the training subset with cross-validation\n",
        "nr.seed(1)\n",
        "cv_eval = cross_val_score(rf_best_model, features_train_reduced, labels_train, cv = outside_folds, n_jobs=-1)\n",
        "\n",
        "print('Mean R2 score of all CV folds = %4.3f' % np.mean(cv_eval))\n",
        "print('Standard deviation of the R2 score over all folds = %4.3f' % np.std(cv_eval))\n",
        "print('R2 score for each fold:')\n",
        "\n",
        "# print the R2 score for each fold\n",
        "for i, j in enumerate(cv_eval):\n",
        "    print('Fold %2d    %4.3f' % (i+1, j))"
      ],
      "metadata": {
        "colab": {
          "base_uri": "https://localhost:8080/"
        },
        "id": "YGq_MH52WCba",
        "outputId": "79d8a490-51b7-409b-d319-94501fd34ea8"
      },
      "execution_count": 16,
      "outputs": [
        {
          "output_type": "stream",
          "name": "stdout",
          "text": [
            "Mean R2 score of all CV folds = 0.986\n",
            "Standard deviation of the R2 score over all folds = 0.003\n",
            "R2 score for each fold:\n",
            "Fold  1    0.990\n",
            "Fold  2    0.990\n",
            "Fold  3    0.989\n",
            "Fold  4    0.985\n",
            "Fold  5    0.980\n",
            "Fold  6    0.984\n",
            "Fold  7    0.986\n",
            "Fold  8    0.987\n",
            "Fold  9    0.986\n",
            "Fold 10    0.984\n"
          ]
        }
      ]
    },
    {
      "cell_type": "markdown",
      "source": [
        "#### Cross-Validation Results\n",
        "\n",
        "The model achieved strong and consistent performance across all folds:\n",
        "\n",
        "- **Mean R² score (10 folds):** 0.986  \n",
        "- **Standard deviation:** 0.004  \n",
        "\n",
        "While a high R² score (0.968) might initially suggest overfitting, it actually reflects the average across all folds, thanks to cross-validation. The narrow R² range and very low standard deviation (0.004) indicate the model performs consistently and generalizes well across different data splits.\n"
      ],
      "metadata": {
        "id": "mOrm-UtjWFkK"
      }
    },
    {
      "cell_type": "markdown",
      "source": [
        "***\n",
        "\n",
        "### Validate the model on the testing subset\n",
        "\n",
        "Finally, the model should be validated on previously unseen data, which is the initially separated test subset. The developed model *rf_best_model* is used to predict the CO2 emissions per capita based on the features of the test subset. The quality of the predictions is evaluated by the metrics R2 score, Mean Squared Error and Root Mean Squared Error:"
      ],
      "metadata": {
        "id": "1St0Kd-kWIDi"
      }
    },
    {
      "cell_type": "code",
      "source": [
        "# make predictions from the features of the testing subset\n",
        "predictions = rf_best_model.predict(features_test_reduced)\n",
        "\n",
        "# calculate the metrics basing on the predicted and true values for the test subset\n",
        "r2 = r2_score(y_true=labels_test, y_pred=predictions)\n",
        "mse = mean_squared_error(y_true=labels_test, y_pred=predictions)\n",
        "rmse = np.sqrt(mse)\n",
        "\n",
        "print(f\"R2 = {r2}, Mean Squared Error (MSE) = {mse}, Root Mean Squared Error (RMSE) = {rmse}\")"
      ],
      "metadata": {
        "colab": {
          "base_uri": "https://localhost:8080/"
        },
        "id": "vIRTbzu_WJzR",
        "outputId": "9d020aa8-ff80-4de0-b164-24e21c051e7f"
      },
      "execution_count": 17,
      "outputs": [
        {
          "output_type": "stream",
          "name": "stdout",
          "text": [
            "R2 = 0.9858363709498787, Mean Squared Error (MSE) = 0.2724067177964901, Root Mean Squared Error (RMSE) = 0.5219259696513386\n"
          ]
        }
      ]
    },
    {
      "cell_type": "markdown",
      "source": [
        "### Model Evaluation & Prediction Quality\n",
        "\n",
        "The obtained R² score of **0.986** may seem optimistic at first. However, several steps were taken to reduce overfitting and improve generalization:\n",
        "\n",
        "- Dataset split with **80% used for training**\n",
        "- **Cross-validation** during feature selection, hyperparameter tuning, and model training\n",
        "\n",
        "Note: **MSE and RMSE** values are not directly comparable to the dependent variable (CO₂ per capita), which ranges from **0 to 20 tons**.\n",
        "\n",
        "To further evaluate performance, a **regression plot** is used to visualize predicted vs. actual CO₂ emissions per capita from the test set.\n"
      ],
      "metadata": {
        "id": "20kdGSiSWMRY"
      }
    },
    {
      "cell_type": "code",
      "source": [
        "import seaborn as sns\n",
        "# plot predicted vs true values of the test subset\n",
        "\n",
        "f,ax=plt.subplots(figsize=(20,15))\n",
        "sns.set_theme(font_scale=2)\n",
        "\n",
        "sns.regplot(x=predictions, y=np.transpose(labels_test)[0,:], fit_reg=True)\n",
        "plt.xlabel(\"CO2 emissions per capita [t] - predicted\")\n",
        "plt.ylabel(\"CO2 emissions per capita [t] - true\")\n",
        "plt.title(\"Correlation coefficient R=\"+str(round(np.corrcoef(predictions,np.transpose(labels_test)[0,:])[0,1],2)))\n",
        "plt.show()"
      ],
      "metadata": {
        "colab": {
          "base_uri": "https://localhost:8080/",
          "height": 1000
        },
        "id": "3kc4N2lzWOQa",
        "outputId": "5f6f961e-8dbf-4e7e-bb5c-f627de2c5f29"
      },
      "execution_count": 18,
      "outputs": [
        {
          "output_type": "display_data",
          "data": {
            "text/plain": [
              "<Figure size 2000x1500 with 1 Axes>"
            ],
            "image/png": "[encoded data removed]"
          },
          "metadata": {}
        }
      ]
    },
    {
      "cell_type": "markdown",
      "source": [
        "### Final Model Performance Summary\n",
        "\n",
        "All key steps were taken to ensure the model generalizes well to unseen data. It achieved a high average **R² score of 0.98** across the cross-validated training set and each fold. Test set predictions also align closely with true values, with the same **R² = 0.98** and no major outliers.\n",
        "\n",
        "While confidence intervals were not calculated, the large test set size (**1,181 observations**) reinforces the model’s robustness and reliability.\n",
        "\n",
        "**Conclusion:**  \n",
        "The model can predict a country’s annual CO₂ emissions per capita with **98.2% R² accuracy**, using key features like:\n",
        "- Cereal yield  \n",
        "- Protected land percentage  \n",
        "- Energy use per capita  \n",
        "- Urban population percentage  \n",
        "- Population growth rate\n",
        "\n",
        "\n",
        "***"
      ],
      "metadata": {
        "id": "nyPdEiE_WSmj"
      }
    },
    {
      "cell_type": "code",
      "source": [
        "import joblib\n",
        "\n",
        "# Save the trained model to file\n",
        "joblib.dump(rf_best_model, 'forecasting_co2_emmision.pkl')\n",
        "print(\"Model saved to 'forecasting_co2_emmision.pkl\")"
      ],
      "metadata": {
        "colab": {
          "base_uri": "https://localhost:8080/"
        },
        "id": "pv1oKIvPWVXv",
        "outputId": "02485bf1-2097-49d3-8143-c7cda6d1d393"
      },
      "execution_count": 19,
      "outputs": [
        {
          "output_type": "stream",
          "name": "stdout",
          "text": [
            "Model saved to 'forecasting_co2_emmision.pkl\n"
          ]
        }
      ]
    },
    {
      "cell_type": "code",
      "source": [
        "# Load model from file\n",
        "loaded_model = joblib.load('forecasting_co2_emmision.pkl')\n",
        "print(\"📂 Model loaded successfully.\")"
      ],
      "metadata": {
        "colab": {
          "base_uri": "https://localhost:8080/"
        },
        "id": "SQ89u8WLWXLH",
        "outputId": "782f37db-3d4f-4b76-86aa-b8a52212490b"
      },
      "execution_count": 20,
      "outputs": [
        {
          "output_type": "stream",
          "name": "stdout",
          "text": [
            "📂 Model loaded successfully.\n"
          ]
        }
      ]
    },
    {
      "cell_type": "markdown",
      "source": [
        "### Calculating Compound Annual Growth Rates (CAGR) for Key Features\n",
        "\n",
        "To assess long-term trends in country-level development indicators, we compute the **Compound Annual Growth Rate (CAGR)** for each of the selected features:\n",
        "\n",
        "- `cereal_yield`\n",
        "- `gni_per_cap`\n",
        "- `en_per_cap`\n",
        "- `pop_urb_aggl_perc`\n",
        "- `prot_area_perc`\n",
        "- `pop_growth_perc`\n",
        "- `urb_pop_growth_perc`\n",
        "\n",
        "The process involves:\n",
        "- Filtering the dataset for a predefined list of selected countries.\n",
        "- Sorting the data by year for each country.\n",
        "- Calculating the CAGR for each feature based on its value in the earliest and latest available years.\n",
        "- Skipping entries where data is missing, invalid, or where the time range is insufficient.\n",
        "\n",
        "This analysis helps identify whether each feature has increased or decreased over time in each country, offering insights into national trends that may impact CO₂ emissions.\n",
        "\n",
        "The final output displays feature-wise growth rates (in percentages) for each country in the form:\n",
        "\n"
      ],
      "metadata": {
        "id": "GGi-xkqfWZtx"
      }
    },
    {
      "cell_type": "code",
      "source": [
        "# List of selected features\n",
        "selected_features = ['cereal_yield', 'gni_per_cap', 'en_per_cap',\n",
        "                     'pop_urb_aggl_perc', 'prot_area_perc',\n",
        "                     'pop_growth_perc', 'urb_pop_growth_perc']\n"
      ],
      "metadata": {
        "id": "D6YG2dE0WcWW"
      },
      "execution_count": 21,
      "outputs": []
    },
    {
      "cell_type": "code",
      "source": [
        "selected_countries = ['IND', 'USA', 'PAK', 'RUS', 'NZL']\n",
        "\n",
        "# Filter the dataset to include only the selected countries\n",
        "df_filtered = data[data['country'].isin(selected_countries)]\n",
        "\n",
        "# Dictionary to store the growth rates for each country\n",
        "growth_rates = {}\n",
        "\n",
        "# Loop over each selected country\n",
        "for country in selected_countries:\n",
        "    # Get data for the current country and sort it by year\n",
        "    country_data = data[(data['country'] == country)].sort_values('year')\n",
        "\n",
        "    # Identify the start and end year for the country\n",
        "    start_year = country_data['year'].min()\n",
        "    end_year = country_data['year'].max()\n",
        "    years = end_year - start_year  # Total number of years between start and end\n",
        "\n",
        "    # Dictionary to store growth rates of all features for the current country\n",
        "    country_growth = {}\n",
        "\n",
        "    # Skip this country if the time span is not valid (e.g., only one year of data)\n",
        "    if years <= 0:\n",
        "        print(f\"Skipping {country} due to insufficient year range.\")\n",
        "        continue\n",
        "\n",
        "    # Loop through each selected feature\n",
        "    for feature in selected_features:\n",
        "        # Get the feature value in the start year\n",
        "        start_value = country_data[country_data['year'] == start_year][feature].values\n",
        "        # Get the feature value in the end year\n",
        "        end_value = country_data[country_data['year'] == end_year][feature].values\n",
        "\n",
        "        # Skip if either value is missing\n",
        "        if len(start_value) == 0 or len(end_value) == 0:\n",
        "            continue\n",
        "\n",
        "        # Extract scalar values from arrays\n",
        "        start_value = start_value[0]\n",
        "        end_value = end_value[0]\n",
        "\n",
        "        # Skip if values are non-positive or not finite (e.g., NaN, inf)\n",
        "        if start_value <= 0 or end_value <= 0 or not np.isfinite(start_value) or not np.isfinite(end_value):\n",
        "            continue\n",
        "\n",
        "        # Compute the Compound Annual Growth Rate (CAGR)\n",
        "        cagr = (end_value / start_value) ** (1 / years) - 1\n",
        "        # Store the result in the country-specific dictionary\n",
        "        country_growth[feature] = cagr\n",
        "\n",
        "    # Save the growth rates of all features for the current country\n",
        "    growth_rates[country] = country_growth"
      ],
      "metadata": {
        "id": "H07iduCfWeHS"
      },
      "execution_count": 22,
      "outputs": []
    },
    {
      "cell_type": "code",
      "source": [
        "# Display the calculated growth rates in a readable format\n",
        "print(\"\\nGrowth Rates (CAGR) from {} to {}:\\n\".format(start_year, end_year))\n",
        "\n",
        "# Loop through each country and its corresponding growth rate dictionary\n",
        "for country, features in growth_rates.items():\n",
        "    print(f\"{country}\")  # Print the country name with an icon\n",
        "\n",
        "    # Loop through each feature and its CAGR value\n",
        "    for feature, rate in features.items():\n",
        "        # Determine whether to display a plus or minus sign\n",
        "        sign = '+' if rate >= 0 else '−'\n",
        "\n",
        "        # Print the feature name and its growth rate percentage (formatted to two decimal places)\n",
        "        print(f\"  • {feature}: {sign}{abs(rate * 100):.2f}%\")\n",
        "\n",
        "    # Add a line break between countries for readability\n",
        "    print()"
      ],
      "metadata": {
        "colab": {
          "base_uri": "https://localhost:8080/"
        },
        "id": "9cfOdWNmWgOZ",
        "outputId": "6e6faf2c-c688-4b7e-c325-df152845f337"
      },
      "execution_count": 23,
      "outputs": [
        {
          "output_type": "stream",
          "name": "stdout",
          "text": [
            "\n",
            "Growth Rates (CAGR) from 1991 to 2008:\n",
            "\n",
            "IND\n",
            "  • cereal_yield: +1.94%\n",
            "  • gni_per_cap: +6.85%\n",
            "  • en_per_cap: +2.12%\n",
            "  • pop_urb_aggl_perc: +1.26%\n",
            "  • prot_area_perc: +0.35%\n",
            "  • pop_growth_perc: −2.28%\n",
            "  • urb_pop_growth_perc: −1.26%\n",
            "\n",
            "USA\n",
            "  • cereal_yield: +2.28%\n",
            "  • gni_per_cap: +4.26%\n",
            "  • en_per_cap: −0.12%\n",
            "  • pop_urb_aggl_perc: +0.40%\n",
            "  • prot_area_perc: +0.01%\n",
            "  • pop_growth_perc: −2.16%\n",
            "  • urb_pop_growth_perc: −2.15%\n",
            "\n",
            "PAK\n",
            "  • cereal_yield: +2.29%\n",
            "  • gni_per_cap: +5.00%\n",
            "  • en_per_cap: +1.50%\n",
            "  • pop_urb_aggl_perc: +0.84%\n",
            "  • prot_area_perc: +0.01%\n",
            "  • pop_growth_perc: −2.46%\n",
            "  • urb_pop_growth_perc: −1.01%\n",
            "\n",
            "RUS\n",
            "  • cereal_yield: +1.99%\n",
            "  • gni_per_cap: +7.41%\n",
            "  • en_per_cap: −0.61%\n",
            "  • pop_urb_aggl_perc: +0.48%\n",
            "  • prot_area_perc: +0.46%\n",
            "\n",
            "NZL\n",
            "  • cereal_yield: +1.96%\n",
            "  • gni_per_cap: +5.00%\n",
            "  • en_per_cap: +0.39%\n",
            "  • pop_urb_aggl_perc: +1.15%\n",
            "  • prot_area_perc: +0.17%\n",
            "  • pop_growth_perc: −2.04%\n",
            "  • urb_pop_growth_perc: −1.83%\n",
            "\n"
          ]
        }
      ]
    },
    {
      "cell_type": "markdown",
      "source": [
        "### 📌 Compound Annual Growth Rate (CAGR) Analysis (1991–2008)\n",
        "\n",
        "The CAGR analysis across selected countries reveals the following key insights:\n",
        "\n",
        "1. **Strong Economic Growth**  \n",
        "   - All countries demonstrated **positive GNI per capita growth**, with **Russia (+7.41%)**, **India (+6.85%)**, and **Pakistan/New Zealand (both +5.00%)** showing particularly high rates, indicating robust economic expansion over the period.\n",
        "\n",
        "2. **Agricultural Productivity**  \n",
        "   - **Cereal yield** improved consistently in all countries, with **Pakistan (+2.29%)** and the **USA (+2.28%)** leading. This suggests sustained advances in agricultural practices and technologies.\n",
        "\n",
        "3. **Energy Use Trends**  \n",
        "   - **India and Pakistan** saw positive growth in per capita energy use, while **Russia (−0.61%)** and the **USA (−0.12%)** experienced slight declines, possibly reflecting early energy efficiency efforts or shifts in industrial patterns.\n",
        "\n",
        "4. **Urbanization Patterns**  \n",
        "   - Moderate increases in **urban agglomeration percentages** across all countries suggest gradual urbanization.\n",
        "   - Notably, **population growth rate** and **urban population growth rate** showed **declines across the board**, likely due to slowing population expansion and stabilizing urban migration.\n",
        "\n",
        "5. **Protected Area Growth**  \n",
        "   - Growth in **protected land areas** remained positive but modest, with the highest in **Russia (+0.46%)** and **India (+0.35%)**, indicating incremental progress in environmental conservation.\n",
        "\n",
        "Overall, the data indicates **economic and agricultural development across all countries**, with varied trends in energy consumption and urban growth. Declining population growth metrics suggest demographic transitions, while slow progress in environmental protection underscores the need for stronger conservation efforts moving forward.\n",
        "\n",
        "---"
      ],
      "metadata": {
        "id": "Z5fFXohoWlbu"
      }
    },
    {
      "cell_type": "markdown",
      "source": [
        "### 🔮 Forecasting CO₂ Emissions per Capita (Next 20 Years)\n",
        "\n",
        "This block of code projects future CO₂ emissions per capita for the selected countries using the following steps:\n",
        "\n",
        "1. **Future Timeline Definition**  \n",
        "   The forecast is made for the next 20 years beyond the latest year in the dataset.\n",
        "\n",
        "2. **Base Year Feature Extraction**  \n",
        "   For each country, the most recent complete feature row is extracted.\n",
        "\n",
        "3. **Feature Growth Simulation**  \n",
        "   Using previously calculated **Compound Annual Growth Rates (CAGR)**, each feature's value is incrementally grown year by year.\n",
        "\n",
        "4. **CO₂ Prediction**  \n",
        "   The pre-trained Random Forest model is used to predict CO₂ emissions per capita for each simulated future year, based on updated feature values.\n",
        "\n",
        "5. **Results Compilation and Visualization**  \n",
        "   - Forecasted results are stored and converted into a DataFrame.\n",
        "   - A line plot displays the projected trends in CO₂ emissions per capita.\n",
        "   - A preview of the last 5 forecasted years for India is shown in tabular format.\n"
      ],
      "metadata": {
        "id": "QuB8CW8XWoys"
      }
    },
    {
      "cell_type": "code",
      "source": [
        "# Define the range of years to forecast (next 20 years beyond the last available year)\n",
        "last_year = data['year'].max()\n",
        "future_years = list(range(last_year + 1, last_year + 21))"
      ],
      "metadata": {
        "id": "HviYMaX-Wq9G"
      },
      "execution_count": 24,
      "outputs": []
    },
    {
      "cell_type": "code",
      "source": [
        "# Initialize a list to store forecasted results\n",
        "forecast_results = []\n",
        "\n",
        "# Loop through each selected country for prediction\n",
        "for country in selected_countries:\n",
        "    country_data = data[(data['country'] == country)].sort_values('year')\n",
        "\n",
        "    # Skip countries with missing feature values\n",
        "    if country_data[selected_features].dropna().empty:\n",
        "        print(f\"Skipping {country} due to missing values.\")\n",
        "        continue\n",
        "\n",
        "    # Take the latest complete record (most recent year) for the country\n",
        "    latest_row = country_data[selected_features].dropna().iloc[-1].copy()\n",
        "\n",
        "    # Forecast for each year into the future\n",
        "    for year in future_years:\n",
        "        # Apply the previously calculated CAGR to each feature\n",
        "        for feature in selected_features:\n",
        "            growth_rate = growth_rates.get(country, {}).get(feature, 0.0)\n",
        "            latest_row[feature] *= (1 + growth_rate)\n",
        "\n",
        "        # Use trained model to predict CO₂ emissions per capita\n",
        "        input_features = latest_row.values.reshape(1, -1)\n",
        "        predicted_co2 = loaded_model.predict(input_features)[0]\n",
        "\n",
        "        # Store the forecast result\n",
        "        forecast_results.append({\n",
        "            'country': country,\n",
        "            'year': year,\n",
        "            'co2_percap': predicted_co2\n",
        "        })"
      ],
      "metadata": {
        "id": "c7MpncZmWss_"
      },
      "execution_count": 25,
      "outputs": []
    },
    {
      "cell_type": "code",
      "source": [
        "# Convert the list of predictions into a DataFrame\n",
        "df_forecast = pd.DataFrame(forecast_results)\n",
        "\n",
        "# Plot forecasted CO₂ per capita for all countries over the next 20 years\n",
        "print('📈 Forecasted CO₂ Emissions per Capita (Next 20 Years)')\n",
        "plt.figure(figsize=(12, 6))\n",
        "sns.lineplot(data=df_forecast, x='year', y='co2_percap', hue='country', marker='o')\n",
        "plt.title('Forecasted CO₂ Emissions per Capita (Next 20 Years)', fontsize=14)\n",
        "plt.xlabel('Year', fontsize=12)\n",
        "plt.ylabel('CO₂ per Capita (metric tons)', fontsize=12)\n",
        "plt.xticks(rotation=45, ha='right')\n",
        "plt.grid(True)\n",
        "plt.tight_layout()\n",
        "plt.show()\n",
        "\n",
        "# Print the forecast values for the last 5 years for India\n",
        "print(\"\\n📊 Forecasted CO₂ per Capita for Last 5 Years in Forecast Period (India):\\n\")\n",
        "print(df_forecast[df_forecast['country'] == 'IND'].sort_values(by='year').tail(5))"
      ],
      "metadata": {
        "colab": {
          "base_uri": "https://localhost:8080/",
          "height": 739
        },
        "id": "bK7MC6xIWu-y",
        "outputId": "ac2fb9d9-0abd-41e7-f0c4-fa0eb5b4219c"
      },
      "execution_count": 26,
      "outputs": [
        {
          "output_type": "stream",
          "name": "stdout",
          "text": [
            "📈 Forecasted CO₂ Emissions per Capita (Next 20 Years)\n"
          ]
        },
        {
          "output_type": "display_data",
          "data": {
            "text/plain": [
              "<Figure size 1200x600 with 1 Axes>"
            ],
            "image/png": "[encoded data removed]"
          },
          "metadata": {}
        },
        {
          "output_type": "stream",
          "name": "stdout",
          "text": [
            "\n",
            "📊 Forecasted CO₂ per Capita for Last 5 Years in Forecast Period (India):\n",
            "\n",
            "   country  year  co2_percap\n",
            "15     IND  2024    1.538156\n",
            "16     IND  2025    1.564411\n",
            "17     IND  2026    1.586332\n",
            "18     IND  2027    1.717992\n",
            "19     IND  2028    2.084860\n"
          ]
        }
      ]
    },
    {
      "cell_type": "markdown",
      "source": [
        "***\n",
        "\n",
        "This plot illustrates the projected trends of CO₂ emissions per capita for five countries — USA, RUS, NZL, IND, and PAK — over a 20-year period.\n",
        "\n",
        "####🔍 **Key Insights**:\n",
        "\n",
        "USA:\n",
        "- Starts with the highest CO₂ emissions per capita (~17 metric tons) but shows a steady decline over time. Despite the drop, it remains the highest emitter per person.\n",
        "\n",
        "RUS:\n",
        "\n",
        "- Has relatively stable emissions with a slight downward trend, indicating moderate policy or behavioral changes.\n",
        "\n",
        "NZL:\n",
        "\n",
        "- Shows gradual growth in emissions per capita, which may suggest increased industrial or transport-related emissions.\n",
        "\n",
        "IND & PAK:\n",
        "\n",
        "- Begin with very low per capita emissions (~1.5–2 metric tons) but display a gradual upward trend.\n",
        "\n",
        "This suggests economic growth and development, which often correlate with increased energy use.\n",
        "\n",
        "- Developed nations (like the USA and Russia) are reducing their per capita emissions, likely due to energy transition policies and technology upgrades.\n",
        "\n",
        "- Developing countries (like India and Pakistan) are on an upward trajectory, likely due to industrialization and increased energy demand.\n",
        "\n",
        "This indicates a global convergence of emissions, but with differing starting points and growth rates."
      ],
      "metadata": {
        "id": "qriL87y8WzOS"
      }
    }
  ]
}